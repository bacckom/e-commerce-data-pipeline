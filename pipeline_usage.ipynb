{
 "cells": [
  {
   "cell_type": "markdown",
   "metadata": {},
   "source": [
    "# Sales predict data pipeline\n",
    "This notebook shows how to import and run sales predict data pipeline, and get result data to do prediction\n"
   ]
  },
  {
   "cell_type": "code",
   "execution_count": null,
   "metadata": {},
   "outputs": [],
   "source": [
    "%pip install \"ecommerce @ git+https://github.com/bacckom/e-commerce-data-pipeline@v0.1\""
   ]
  },
  {
   "cell_type": "code",
   "execution_count": null,
   "metadata": {},
   "outputs": [],
   "source": [
    "from pathlib import Path\n",
    "import sys\n",
    "sys.path.append(\"./../../src\")\n",
    "from ecommerce.env.environment import Environment\n",
    "from ecommerce.ml.sales_forecast import SalesForecaster\n",
    "from ecommerce.dataflow.pipeline.sales_data_pipeline import SalesDataPipeline\n",
    "from ecommerce.engine.spark_engine import create_spark_session\n",
    "from ecommerce.dataflow.landing.agg.customer_product_order_loader import ProductOrdersLoader\n"
   ]
  },
  {
   "cell_type": "code",
   "execution_count": null,
   "metadata": {},
   "outputs": [],
   "source": [
    "import pandas as pd\n",
    "\n",
    "env = Environment()\n",
    "\n",
    "\"\"\" Data Pipelines run to prepare data for ML \"\"\"\n",
    "pipeline = SalesDataPipeline(env)\n",
    "pipeline.run()\n",
    "\n",
    "\"\"\" Load result data for ML \"\"\"\n",
    "spark = create_spark_session()\n",
    "product_sales_df = ProductOrdersLoader(env.configs, spark).load().df\n",
    "\n",
    "\"\"\" Pass data for running ML forecasting \"\"\"\n",
    "forecaster = SalesForecaster(env.configs, product_sales_df)\n",
    "predictions = forecaster.forecast()\n",
    "\n",
    "print(f'Sales prediction 7 days: {pd.DataFrame(predictions).to_string(index=True)}')\n"
   ]
  },
  {
   "cell_type": "markdown",
   "metadata": {},
   "source": [
    "# Thank you!"
   ]
  }
 ],
 "metadata": {
  "kernelspec": {
   "display_name": "venv_ec",
   "language": "python",
   "name": "python3"
  },
  "language_info": {
   "codemirror_mode": {
    "name": "ipython",
    "version": 3
   },
   "file_extension": ".py",
   "mimetype": "text/x-python",
   "name": "python",
   "nbconvert_exporter": "python",
   "pygments_lexer": "ipython3",
   "version": "3.11.1"
  }
 },
 "nbformat": 4,
 "nbformat_minor": 2
}
